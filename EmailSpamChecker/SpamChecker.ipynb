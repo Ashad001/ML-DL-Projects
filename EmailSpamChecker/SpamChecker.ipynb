{
  "cells": [
    {
      "cell_type": "markdown",
      "metadata": {
        "id": "view-in-github",
        "colab_type": "text"
      },
      "source": [
        "<a href=\"https://colab.research.google.com/github/Ashad001/PythonProjects/blob/main/EmailSpamChecker/SpamChecker.ipynb\" target=\"_parent\"><img src=\"https://colab.research.google.com/assets/colab-badge.svg\" alt=\"Open In Colab\"/></a>"
      ]
    },
    {
      "cell_type": "markdown",
      "metadata": {
        "id": "hAzeHhEqGCW3"
      },
      "source": [
        "###Email Spam Detection Dataset (classification).\n",
        "Retrieved from [Kaggle](https://www.kaggle.com/datasets/shantanudhakadd/email-spam-detection-dataset-classification)\n",
        "\n",
        "---\n",
        "Description:\n",
        "The Email Spam Classification Dataset is a small numerical dataset designed for binary classification tasks. The dataset consists of 200 samples representing email messages, with features extracted from each email to determine whether it is classified as \"spam\" or \"not spam\".\n",
        "\n",
        "Features:\n",
        "1. Contains \"Free\": Indicates whether the email contains the word \"Free\".\n",
        "   - Data Type: Binary (0 or 1)\n",
        "   - 0: The word \"Free\" is not present in the email.\n",
        "   - 1: The word \"Free\" is present in the email.\n",
        "\n",
        "2. Average Word Length: The average length of words in the email message.\n",
        "   - Data Type: Float\n",
        "   - Range: Positive float values\n",
        "\n",
        "3. Email Length: The length of the email message in characters.\n",
        "   - Data Type: Integer\n",
        "   - Range: Positive integer values\n",
        "\n",
        "4. Number of capital letters: How many capital letters are there in a mail\n",
        "  - Data Type: Integer\n",
        "   - Range: Positive integer values\n",
        "\n",
        "\n",
        "Label:\n",
        "The dataset includes a binary label indicating whether each email is classified as \"spam\" or \"not spam\".\n",
        "   - Spam: The email is classified as spam.\n",
        "   - Ham: The email is classified as not spam.\n",
        "\n",
        "Usage:\n",
        "The Email Spam Classification Dataset can be used for training and evaluating binary classification models to classify emails as either spam or not spam based on their numerical features. It can serve as a starting point for developing more comprehensive and accurate spam email classifiers.\n"
      ]
    },
    {
      "cell_type": "code",
      "execution_count": 142,
      "metadata": {
        "id": "IbokGriiFsXe"
      },
      "outputs": [],
      "source": [
        "import numpy as np\n",
        "import pandas as pd"
      ]
    },
    {
      "cell_type": "code",
      "execution_count": 143,
      "metadata": {
        "colab": {
          "base_uri": "https://localhost:8080/",
          "height": 206
        },
        "id": "w7AVIvNEvsaP",
        "outputId": "f73cebda-efa1-4a0d-bc52-a4978e1de4e8"
      },
      "outputs": [
        {
          "output_type": "execute_result",
          "data": {
            "text/plain": [
              "     v1                                                 v2 Unnamed: 2  \\\n",
              "0   ham  Go until jurong point, crazy.. Available only ...        NaN   \n",
              "1   ham                      Ok lar... Joking wif u oni...        NaN   \n",
              "2  spam  Free entry in 2 a wkly comp to win FA Cup fina...        NaN   \n",
              "3   ham  U dun say so early hor... U c already then say...        NaN   \n",
              "4   ham  Nah I don't think he goes to usf, he lives aro...        NaN   \n",
              "\n",
              "  Unnamed: 3 Unnamed: 4  \n",
              "0        NaN        NaN  \n",
              "1        NaN        NaN  \n",
              "2        NaN        NaN  \n",
              "3        NaN        NaN  \n",
              "4        NaN        NaN  "
            ],
            "text/html": [
              "\n",
              "  <div id=\"df-3c665ab2-ead8-4f37-9680-9b113ee04ea8\">\n",
              "    <div class=\"colab-df-container\">\n",
              "      <div>\n",
              "<style scoped>\n",
              "    .dataframe tbody tr th:only-of-type {\n",
              "        vertical-align: middle;\n",
              "    }\n",
              "\n",
              "    .dataframe tbody tr th {\n",
              "        vertical-align: top;\n",
              "    }\n",
              "\n",
              "    .dataframe thead th {\n",
              "        text-align: right;\n",
              "    }\n",
              "</style>\n",
              "<table border=\"1\" class=\"dataframe\">\n",
              "  <thead>\n",
              "    <tr style=\"text-align: right;\">\n",
              "      <th></th>\n",
              "      <th>v1</th>\n",
              "      <th>v2</th>\n",
              "      <th>Unnamed: 2</th>\n",
              "      <th>Unnamed: 3</th>\n",
              "      <th>Unnamed: 4</th>\n",
              "    </tr>\n",
              "  </thead>\n",
              "  <tbody>\n",
              "    <tr>\n",
              "      <th>0</th>\n",
              "      <td>ham</td>\n",
              "      <td>Go until jurong point, crazy.. Available only ...</td>\n",
              "      <td>NaN</td>\n",
              "      <td>NaN</td>\n",
              "      <td>NaN</td>\n",
              "    </tr>\n",
              "    <tr>\n",
              "      <th>1</th>\n",
              "      <td>ham</td>\n",
              "      <td>Ok lar... Joking wif u oni...</td>\n",
              "      <td>NaN</td>\n",
              "      <td>NaN</td>\n",
              "      <td>NaN</td>\n",
              "    </tr>\n",
              "    <tr>\n",
              "      <th>2</th>\n",
              "      <td>spam</td>\n",
              "      <td>Free entry in 2 a wkly comp to win FA Cup fina...</td>\n",
              "      <td>NaN</td>\n",
              "      <td>NaN</td>\n",
              "      <td>NaN</td>\n",
              "    </tr>\n",
              "    <tr>\n",
              "      <th>3</th>\n",
              "      <td>ham</td>\n",
              "      <td>U dun say so early hor... U c already then say...</td>\n",
              "      <td>NaN</td>\n",
              "      <td>NaN</td>\n",
              "      <td>NaN</td>\n",
              "    </tr>\n",
              "    <tr>\n",
              "      <th>4</th>\n",
              "      <td>ham</td>\n",
              "      <td>Nah I don't think he goes to usf, he lives aro...</td>\n",
              "      <td>NaN</td>\n",
              "      <td>NaN</td>\n",
              "      <td>NaN</td>\n",
              "    </tr>\n",
              "  </tbody>\n",
              "</table>\n",
              "</div>\n",
              "      <button class=\"colab-df-convert\" onclick=\"convertToInteractive('df-3c665ab2-ead8-4f37-9680-9b113ee04ea8')\"\n",
              "              title=\"Convert this dataframe to an interactive table.\"\n",
              "              style=\"display:none;\">\n",
              "        \n",
              "  <svg xmlns=\"http://www.w3.org/2000/svg\" height=\"24px\"viewBox=\"0 0 24 24\"\n",
              "       width=\"24px\">\n",
              "    <path d=\"M0 0h24v24H0V0z\" fill=\"none\"/>\n",
              "    <path d=\"M18.56 5.44l.94 2.06.94-2.06 2.06-.94-2.06-.94-.94-2.06-.94 2.06-2.06.94zm-11 1L8.5 8.5l.94-2.06 2.06-.94-2.06-.94L8.5 2.5l-.94 2.06-2.06.94zm10 10l.94 2.06.94-2.06 2.06-.94-2.06-.94-.94-2.06-.94 2.06-2.06.94z\"/><path d=\"M17.41 7.96l-1.37-1.37c-.4-.4-.92-.59-1.43-.59-.52 0-1.04.2-1.43.59L10.3 9.45l-7.72 7.72c-.78.78-.78 2.05 0 2.83L4 21.41c.39.39.9.59 1.41.59.51 0 1.02-.2 1.41-.59l7.78-7.78 2.81-2.81c.8-.78.8-2.07 0-2.86zM5.41 20L4 18.59l7.72-7.72 1.47 1.35L5.41 20z\"/>\n",
              "  </svg>\n",
              "      </button>\n",
              "      \n",
              "  <style>\n",
              "    .colab-df-container {\n",
              "      display:flex;\n",
              "      flex-wrap:wrap;\n",
              "      gap: 12px;\n",
              "    }\n",
              "\n",
              "    .colab-df-convert {\n",
              "      background-color: #E8F0FE;\n",
              "      border: none;\n",
              "      border-radius: 50%;\n",
              "      cursor: pointer;\n",
              "      display: none;\n",
              "      fill: #1967D2;\n",
              "      height: 32px;\n",
              "      padding: 0 0 0 0;\n",
              "      width: 32px;\n",
              "    }\n",
              "\n",
              "    .colab-df-convert:hover {\n",
              "      background-color: #E2EBFA;\n",
              "      box-shadow: 0px 1px 2px rgba(60, 64, 67, 0.3), 0px 1px 3px 1px rgba(60, 64, 67, 0.15);\n",
              "      fill: #174EA6;\n",
              "    }\n",
              "\n",
              "    [theme=dark] .colab-df-convert {\n",
              "      background-color: #3B4455;\n",
              "      fill: #D2E3FC;\n",
              "    }\n",
              "\n",
              "    [theme=dark] .colab-df-convert:hover {\n",
              "      background-color: #434B5C;\n",
              "      box-shadow: 0px 1px 3px 1px rgba(0, 0, 0, 0.15);\n",
              "      filter: drop-shadow(0px 1px 2px rgba(0, 0, 0, 0.3));\n",
              "      fill: #FFFFFF;\n",
              "    }\n",
              "  </style>\n",
              "\n",
              "      <script>\n",
              "        const buttonEl =\n",
              "          document.querySelector('#df-3c665ab2-ead8-4f37-9680-9b113ee04ea8 button.colab-df-convert');\n",
              "        buttonEl.style.display =\n",
              "          google.colab.kernel.accessAllowed ? 'block' : 'none';\n",
              "\n",
              "        async function convertToInteractive(key) {\n",
              "          const element = document.querySelector('#df-3c665ab2-ead8-4f37-9680-9b113ee04ea8');\n",
              "          const dataTable =\n",
              "            await google.colab.kernel.invokeFunction('convertToInteractive',\n",
              "                                                     [key], {});\n",
              "          if (!dataTable) return;\n",
              "\n",
              "          const docLinkHtml = 'Like what you see? Visit the ' +\n",
              "            '<a target=\"_blank\" href=https://colab.research.google.com/notebooks/data_table.ipynb>data table notebook</a>'\n",
              "            + ' to learn more about interactive tables.';\n",
              "          element.innerHTML = '';\n",
              "          dataTable['output_type'] = 'display_data';\n",
              "          await google.colab.output.renderOutput(dataTable, element);\n",
              "          const docLink = document.createElement('div');\n",
              "          docLink.innerHTML = docLinkHtml;\n",
              "          element.appendChild(docLink);\n",
              "        }\n",
              "      </script>\n",
              "    </div>\n",
              "  </div>\n",
              "  "
            ]
          },
          "metadata": {},
          "execution_count": 143
        }
      ],
      "source": [
        "df = pd.read_csv('spam.csv', encoding='latin-1')\n",
        "df.head()"
      ]
    },
    {
      "cell_type": "code",
      "execution_count": 144,
      "metadata": {
        "colab": {
          "base_uri": "https://localhost:8080/"
        },
        "id": "H81GeLiY_Aay",
        "outputId": "8847e01d-39dc-4fae-8f14-5b8e3de50eb2"
      },
      "outputs": [
        {
          "output_type": "execute_result",
          "data": {
            "text/plain": [
              "(5572, 5)"
            ]
          },
          "metadata": {},
          "execution_count": 144
        }
      ],
      "source": [
        "df.shape"
      ]
    },
    {
      "cell_type": "code",
      "execution_count": 145,
      "metadata": {
        "colab": {
          "base_uri": "https://localhost:8080/",
          "height": 424
        },
        "id": "4wPBVJrKEaQm",
        "outputId": "7c74ed1b-f4c2-45af-b13a-2a000d1babfc"
      },
      "outputs": [
        {
          "output_type": "execute_result",
          "data": {
            "text/plain": [
              "     Is Spam                                               Mail\n",
              "0        ham  Go until jurong point, crazy.. Available only ...\n",
              "1        ham                      Ok lar... Joking wif u oni...\n",
              "2       spam  Free entry in 2 a wkly comp to win FA Cup fina...\n",
              "3        ham  U dun say so early hor... U c already then say...\n",
              "4        ham  Nah I don't think he goes to usf, he lives aro...\n",
              "...      ...                                                ...\n",
              "5567    spam  This is the 2nd time we have tried 2 contact u...\n",
              "5568     ham              Will Ì_ b going to esplanade fr home?\n",
              "5569     ham  Pity, * was in mood for that. So...any other s...\n",
              "5570     ham  The guy did some bitching but I acted like i'd...\n",
              "5571     ham                         Rofl. Its true to its name\n",
              "\n",
              "[5572 rows x 2 columns]"
            ],
            "text/html": [
              "\n",
              "  <div id=\"df-91b52367-6820-45d6-83e9-6be42df79100\">\n",
              "    <div class=\"colab-df-container\">\n",
              "      <div>\n",
              "<style scoped>\n",
              "    .dataframe tbody tr th:only-of-type {\n",
              "        vertical-align: middle;\n",
              "    }\n",
              "\n",
              "    .dataframe tbody tr th {\n",
              "        vertical-align: top;\n",
              "    }\n",
              "\n",
              "    .dataframe thead th {\n",
              "        text-align: right;\n",
              "    }\n",
              "</style>\n",
              "<table border=\"1\" class=\"dataframe\">\n",
              "  <thead>\n",
              "    <tr style=\"text-align: right;\">\n",
              "      <th></th>\n",
              "      <th>Is Spam</th>\n",
              "      <th>Mail</th>\n",
              "    </tr>\n",
              "  </thead>\n",
              "  <tbody>\n",
              "    <tr>\n",
              "      <th>0</th>\n",
              "      <td>ham</td>\n",
              "      <td>Go until jurong point, crazy.. Available only ...</td>\n",
              "    </tr>\n",
              "    <tr>\n",
              "      <th>1</th>\n",
              "      <td>ham</td>\n",
              "      <td>Ok lar... Joking wif u oni...</td>\n",
              "    </tr>\n",
              "    <tr>\n",
              "      <th>2</th>\n",
              "      <td>spam</td>\n",
              "      <td>Free entry in 2 a wkly comp to win FA Cup fina...</td>\n",
              "    </tr>\n",
              "    <tr>\n",
              "      <th>3</th>\n",
              "      <td>ham</td>\n",
              "      <td>U dun say so early hor... U c already then say...</td>\n",
              "    </tr>\n",
              "    <tr>\n",
              "      <th>4</th>\n",
              "      <td>ham</td>\n",
              "      <td>Nah I don't think he goes to usf, he lives aro...</td>\n",
              "    </tr>\n",
              "    <tr>\n",
              "      <th>...</th>\n",
              "      <td>...</td>\n",
              "      <td>...</td>\n",
              "    </tr>\n",
              "    <tr>\n",
              "      <th>5567</th>\n",
              "      <td>spam</td>\n",
              "      <td>This is the 2nd time we have tried 2 contact u...</td>\n",
              "    </tr>\n",
              "    <tr>\n",
              "      <th>5568</th>\n",
              "      <td>ham</td>\n",
              "      <td>Will Ì_ b going to esplanade fr home?</td>\n",
              "    </tr>\n",
              "    <tr>\n",
              "      <th>5569</th>\n",
              "      <td>ham</td>\n",
              "      <td>Pity, * was in mood for that. So...any other s...</td>\n",
              "    </tr>\n",
              "    <tr>\n",
              "      <th>5570</th>\n",
              "      <td>ham</td>\n",
              "      <td>The guy did some bitching but I acted like i'd...</td>\n",
              "    </tr>\n",
              "    <tr>\n",
              "      <th>5571</th>\n",
              "      <td>ham</td>\n",
              "      <td>Rofl. Its true to its name</td>\n",
              "    </tr>\n",
              "  </tbody>\n",
              "</table>\n",
              "<p>5572 rows × 2 columns</p>\n",
              "</div>\n",
              "      <button class=\"colab-df-convert\" onclick=\"convertToInteractive('df-91b52367-6820-45d6-83e9-6be42df79100')\"\n",
              "              title=\"Convert this dataframe to an interactive table.\"\n",
              "              style=\"display:none;\">\n",
              "        \n",
              "  <svg xmlns=\"http://www.w3.org/2000/svg\" height=\"24px\"viewBox=\"0 0 24 24\"\n",
              "       width=\"24px\">\n",
              "    <path d=\"M0 0h24v24H0V0z\" fill=\"none\"/>\n",
              "    <path d=\"M18.56 5.44l.94 2.06.94-2.06 2.06-.94-2.06-.94-.94-2.06-.94 2.06-2.06.94zm-11 1L8.5 8.5l.94-2.06 2.06-.94-2.06-.94L8.5 2.5l-.94 2.06-2.06.94zm10 10l.94 2.06.94-2.06 2.06-.94-2.06-.94-.94-2.06-.94 2.06-2.06.94z\"/><path d=\"M17.41 7.96l-1.37-1.37c-.4-.4-.92-.59-1.43-.59-.52 0-1.04.2-1.43.59L10.3 9.45l-7.72 7.72c-.78.78-.78 2.05 0 2.83L4 21.41c.39.39.9.59 1.41.59.51 0 1.02-.2 1.41-.59l7.78-7.78 2.81-2.81c.8-.78.8-2.07 0-2.86zM5.41 20L4 18.59l7.72-7.72 1.47 1.35L5.41 20z\"/>\n",
              "  </svg>\n",
              "      </button>\n",
              "      \n",
              "  <style>\n",
              "    .colab-df-container {\n",
              "      display:flex;\n",
              "      flex-wrap:wrap;\n",
              "      gap: 12px;\n",
              "    }\n",
              "\n",
              "    .colab-df-convert {\n",
              "      background-color: #E8F0FE;\n",
              "      border: none;\n",
              "      border-radius: 50%;\n",
              "      cursor: pointer;\n",
              "      display: none;\n",
              "      fill: #1967D2;\n",
              "      height: 32px;\n",
              "      padding: 0 0 0 0;\n",
              "      width: 32px;\n",
              "    }\n",
              "\n",
              "    .colab-df-convert:hover {\n",
              "      background-color: #E2EBFA;\n",
              "      box-shadow: 0px 1px 2px rgba(60, 64, 67, 0.3), 0px 1px 3px 1px rgba(60, 64, 67, 0.15);\n",
              "      fill: #174EA6;\n",
              "    }\n",
              "\n",
              "    [theme=dark] .colab-df-convert {\n",
              "      background-color: #3B4455;\n",
              "      fill: #D2E3FC;\n",
              "    }\n",
              "\n",
              "    [theme=dark] .colab-df-convert:hover {\n",
              "      background-color: #434B5C;\n",
              "      box-shadow: 0px 1px 3px 1px rgba(0, 0, 0, 0.15);\n",
              "      filter: drop-shadow(0px 1px 2px rgba(0, 0, 0, 0.3));\n",
              "      fill: #FFFFFF;\n",
              "    }\n",
              "  </style>\n",
              "\n",
              "      <script>\n",
              "        const buttonEl =\n",
              "          document.querySelector('#df-91b52367-6820-45d6-83e9-6be42df79100 button.colab-df-convert');\n",
              "        buttonEl.style.display =\n",
              "          google.colab.kernel.accessAllowed ? 'block' : 'none';\n",
              "\n",
              "        async function convertToInteractive(key) {\n",
              "          const element = document.querySelector('#df-91b52367-6820-45d6-83e9-6be42df79100');\n",
              "          const dataTable =\n",
              "            await google.colab.kernel.invokeFunction('convertToInteractive',\n",
              "                                                     [key], {});\n",
              "          if (!dataTable) return;\n",
              "\n",
              "          const docLinkHtml = 'Like what you see? Visit the ' +\n",
              "            '<a target=\"_blank\" href=https://colab.research.google.com/notebooks/data_table.ipynb>data table notebook</a>'\n",
              "            + ' to learn more about interactive tables.';\n",
              "          element.innerHTML = '';\n",
              "          dataTable['output_type'] = 'display_data';\n",
              "          await google.colab.output.renderOutput(dataTable, element);\n",
              "          const docLink = document.createElement('div');\n",
              "          docLink.innerHTML = docLinkHtml;\n",
              "          element.appendChild(docLink);\n",
              "        }\n",
              "      </script>\n",
              "    </div>\n",
              "  </div>\n",
              "  "
            ]
          },
          "metadata": {},
          "execution_count": 145
        }
      ],
      "source": [
        "df = df.drop(columns=['Unnamed: 2', 'Unnamed: 3', 'Unnamed: 4'])\n",
        "df = df.rename(columns={'v1': 'Is Spam'})\n",
        "df = df.rename(columns={'v2': 'Mail'})\n",
        "df"
      ]
    },
    {
      "cell_type": "code",
      "execution_count": 146,
      "metadata": {
        "colab": {
          "base_uri": "https://localhost:8080/"
        },
        "id": "frAPfZtogTd3",
        "outputId": "3fcd4d87-0a1b-4cbb-f89e-4201be18a36f"
      },
      "outputs": [
        {
          "output_type": "stream",
          "name": "stdout",
          "text": [
            "0    5285\n",
            "1     287\n",
            "Name: Looks malacious, dtype: int64\n"
          ]
        }
      ],
      "source": [
        "import re\n",
        "pattern = r\"\\blimited\\s+time|offer\\b|\\bDiscount|Winner|Free\\b\"\n",
        "df['Looks malacious'] = df['Mail'].apply(lambda x: bool(re.search(pattern, x, re.IGNORECASE))).astype(int)\n",
        "print(df['Looks malacious'].value_counts())"
      ]
    },
    {
      "cell_type": "code",
      "execution_count": 147,
      "metadata": {
        "id": "QjaCEyLZmLQA"
      },
      "outputs": [],
      "source": [
        "df['Avg_Word_Length'] = df['Mail'].apply(lambda x: round(sum(len(word) for word in x.split()) / len(x.split()), 2))\n",
        "df['Length'] = df['Mail'].str.len()\n",
        "df['Capitals'] = df['Mail'].str.count(r'[A-Z]')"
      ]
    },
    {
      "cell_type": "code",
      "execution_count": 148,
      "metadata": {
        "colab": {
          "base_uri": "https://localhost:8080/",
          "height": 424
        },
        "id": "0GtIjNlN889a",
        "outputId": "83727cb4-7aa7-497f-96f8-df16e747edb8"
      },
      "outputs": [
        {
          "output_type": "execute_result",
          "data": {
            "text/plain": [
              "     Is Spam                                               Mail  \\\n",
              "0        ham  Go until jurong point, crazy.. Available only ...   \n",
              "1        ham                      Ok lar... Joking wif u oni...   \n",
              "2       spam  Free entry in 2 a wkly comp to win FA Cup fina...   \n",
              "3        ham  U dun say so early hor... U c already then say...   \n",
              "4        ham  Nah I don't think he goes to usf, he lives aro...   \n",
              "...      ...                                                ...   \n",
              "5567    spam  This is the 2nd time we have tried 2 contact u...   \n",
              "5568     ham              Will Ì_ b going to esplanade fr home?   \n",
              "5569     ham  Pity, * was in mood for that. So...any other s...   \n",
              "5570     ham  The guy did some bitching but I acted like i'd...   \n",
              "5571     ham                         Rofl. Its true to its name   \n",
              "\n",
              "      Looks malacious  Avg_Word_Length  Length  Capitals  \n",
              "0                   0             4.60     111         3  \n",
              "1                   0             4.00      29         2  \n",
              "2                   1             4.57     155        10  \n",
              "3                   0             3.55      49         2  \n",
              "4                   0             3.77      61         2  \n",
              "...               ...              ...     ...       ...  \n",
              "5567                0             4.40     161         9  \n",
              "5568                0             3.75      37         1  \n",
              "5569                0             4.80      57         2  \n",
              "5570                1             3.85     125         2  \n",
              "5571                0             3.50      26         2  \n",
              "\n",
              "[5572 rows x 6 columns]"
            ],
            "text/html": [
              "\n",
              "  <div id=\"df-14d9009d-817c-450d-ba9e-2768c1415cd6\">\n",
              "    <div class=\"colab-df-container\">\n",
              "      <div>\n",
              "<style scoped>\n",
              "    .dataframe tbody tr th:only-of-type {\n",
              "        vertical-align: middle;\n",
              "    }\n",
              "\n",
              "    .dataframe tbody tr th {\n",
              "        vertical-align: top;\n",
              "    }\n",
              "\n",
              "    .dataframe thead th {\n",
              "        text-align: right;\n",
              "    }\n",
              "</style>\n",
              "<table border=\"1\" class=\"dataframe\">\n",
              "  <thead>\n",
              "    <tr style=\"text-align: right;\">\n",
              "      <th></th>\n",
              "      <th>Is Spam</th>\n",
              "      <th>Mail</th>\n",
              "      <th>Looks malacious</th>\n",
              "      <th>Avg_Word_Length</th>\n",
              "      <th>Length</th>\n",
              "      <th>Capitals</th>\n",
              "    </tr>\n",
              "  </thead>\n",
              "  <tbody>\n",
              "    <tr>\n",
              "      <th>0</th>\n",
              "      <td>ham</td>\n",
              "      <td>Go until jurong point, crazy.. Available only ...</td>\n",
              "      <td>0</td>\n",
              "      <td>4.60</td>\n",
              "      <td>111</td>\n",
              "      <td>3</td>\n",
              "    </tr>\n",
              "    <tr>\n",
              "      <th>1</th>\n",
              "      <td>ham</td>\n",
              "      <td>Ok lar... Joking wif u oni...</td>\n",
              "      <td>0</td>\n",
              "      <td>4.00</td>\n",
              "      <td>29</td>\n",
              "      <td>2</td>\n",
              "    </tr>\n",
              "    <tr>\n",
              "      <th>2</th>\n",
              "      <td>spam</td>\n",
              "      <td>Free entry in 2 a wkly comp to win FA Cup fina...</td>\n",
              "      <td>1</td>\n",
              "      <td>4.57</td>\n",
              "      <td>155</td>\n",
              "      <td>10</td>\n",
              "    </tr>\n",
              "    <tr>\n",
              "      <th>3</th>\n",
              "      <td>ham</td>\n",
              "      <td>U dun say so early hor... U c already then say...</td>\n",
              "      <td>0</td>\n",
              "      <td>3.55</td>\n",
              "      <td>49</td>\n",
              "      <td>2</td>\n",
              "    </tr>\n",
              "    <tr>\n",
              "      <th>4</th>\n",
              "      <td>ham</td>\n",
              "      <td>Nah I don't think he goes to usf, he lives aro...</td>\n",
              "      <td>0</td>\n",
              "      <td>3.77</td>\n",
              "      <td>61</td>\n",
              "      <td>2</td>\n",
              "    </tr>\n",
              "    <tr>\n",
              "      <th>...</th>\n",
              "      <td>...</td>\n",
              "      <td>...</td>\n",
              "      <td>...</td>\n",
              "      <td>...</td>\n",
              "      <td>...</td>\n",
              "      <td>...</td>\n",
              "    </tr>\n",
              "    <tr>\n",
              "      <th>5567</th>\n",
              "      <td>spam</td>\n",
              "      <td>This is the 2nd time we have tried 2 contact u...</td>\n",
              "      <td>0</td>\n",
              "      <td>4.40</td>\n",
              "      <td>161</td>\n",
              "      <td>9</td>\n",
              "    </tr>\n",
              "    <tr>\n",
              "      <th>5568</th>\n",
              "      <td>ham</td>\n",
              "      <td>Will Ì_ b going to esplanade fr home?</td>\n",
              "      <td>0</td>\n",
              "      <td>3.75</td>\n",
              "      <td>37</td>\n",
              "      <td>1</td>\n",
              "    </tr>\n",
              "    <tr>\n",
              "      <th>5569</th>\n",
              "      <td>ham</td>\n",
              "      <td>Pity, * was in mood for that. So...any other s...</td>\n",
              "      <td>0</td>\n",
              "      <td>4.80</td>\n",
              "      <td>57</td>\n",
              "      <td>2</td>\n",
              "    </tr>\n",
              "    <tr>\n",
              "      <th>5570</th>\n",
              "      <td>ham</td>\n",
              "      <td>The guy did some bitching but I acted like i'd...</td>\n",
              "      <td>1</td>\n",
              "      <td>3.85</td>\n",
              "      <td>125</td>\n",
              "      <td>2</td>\n",
              "    </tr>\n",
              "    <tr>\n",
              "      <th>5571</th>\n",
              "      <td>ham</td>\n",
              "      <td>Rofl. Its true to its name</td>\n",
              "      <td>0</td>\n",
              "      <td>3.50</td>\n",
              "      <td>26</td>\n",
              "      <td>2</td>\n",
              "    </tr>\n",
              "  </tbody>\n",
              "</table>\n",
              "<p>5572 rows × 6 columns</p>\n",
              "</div>\n",
              "      <button class=\"colab-df-convert\" onclick=\"convertToInteractive('df-14d9009d-817c-450d-ba9e-2768c1415cd6')\"\n",
              "              title=\"Convert this dataframe to an interactive table.\"\n",
              "              style=\"display:none;\">\n",
              "        \n",
              "  <svg xmlns=\"http://www.w3.org/2000/svg\" height=\"24px\"viewBox=\"0 0 24 24\"\n",
              "       width=\"24px\">\n",
              "    <path d=\"M0 0h24v24H0V0z\" fill=\"none\"/>\n",
              "    <path d=\"M18.56 5.44l.94 2.06.94-2.06 2.06-.94-2.06-.94-.94-2.06-.94 2.06-2.06.94zm-11 1L8.5 8.5l.94-2.06 2.06-.94-2.06-.94L8.5 2.5l-.94 2.06-2.06.94zm10 10l.94 2.06.94-2.06 2.06-.94-2.06-.94-.94-2.06-.94 2.06-2.06.94z\"/><path d=\"M17.41 7.96l-1.37-1.37c-.4-.4-.92-.59-1.43-.59-.52 0-1.04.2-1.43.59L10.3 9.45l-7.72 7.72c-.78.78-.78 2.05 0 2.83L4 21.41c.39.39.9.59 1.41.59.51 0 1.02-.2 1.41-.59l7.78-7.78 2.81-2.81c.8-.78.8-2.07 0-2.86zM5.41 20L4 18.59l7.72-7.72 1.47 1.35L5.41 20z\"/>\n",
              "  </svg>\n",
              "      </button>\n",
              "      \n",
              "  <style>\n",
              "    .colab-df-container {\n",
              "      display:flex;\n",
              "      flex-wrap:wrap;\n",
              "      gap: 12px;\n",
              "    }\n",
              "\n",
              "    .colab-df-convert {\n",
              "      background-color: #E8F0FE;\n",
              "      border: none;\n",
              "      border-radius: 50%;\n",
              "      cursor: pointer;\n",
              "      display: none;\n",
              "      fill: #1967D2;\n",
              "      height: 32px;\n",
              "      padding: 0 0 0 0;\n",
              "      width: 32px;\n",
              "    }\n",
              "\n",
              "    .colab-df-convert:hover {\n",
              "      background-color: #E2EBFA;\n",
              "      box-shadow: 0px 1px 2px rgba(60, 64, 67, 0.3), 0px 1px 3px 1px rgba(60, 64, 67, 0.15);\n",
              "      fill: #174EA6;\n",
              "    }\n",
              "\n",
              "    [theme=dark] .colab-df-convert {\n",
              "      background-color: #3B4455;\n",
              "      fill: #D2E3FC;\n",
              "    }\n",
              "\n",
              "    [theme=dark] .colab-df-convert:hover {\n",
              "      background-color: #434B5C;\n",
              "      box-shadow: 0px 1px 3px 1px rgba(0, 0, 0, 0.15);\n",
              "      filter: drop-shadow(0px 1px 2px rgba(0, 0, 0, 0.3));\n",
              "      fill: #FFFFFF;\n",
              "    }\n",
              "  </style>\n",
              "\n",
              "      <script>\n",
              "        const buttonEl =\n",
              "          document.querySelector('#df-14d9009d-817c-450d-ba9e-2768c1415cd6 button.colab-df-convert');\n",
              "        buttonEl.style.display =\n",
              "          google.colab.kernel.accessAllowed ? 'block' : 'none';\n",
              "\n",
              "        async function convertToInteractive(key) {\n",
              "          const element = document.querySelector('#df-14d9009d-817c-450d-ba9e-2768c1415cd6');\n",
              "          const dataTable =\n",
              "            await google.colab.kernel.invokeFunction('convertToInteractive',\n",
              "                                                     [key], {});\n",
              "          if (!dataTable) return;\n",
              "\n",
              "          const docLinkHtml = 'Like what you see? Visit the ' +\n",
              "            '<a target=\"_blank\" href=https://colab.research.google.com/notebooks/data_table.ipynb>data table notebook</a>'\n",
              "            + ' to learn more about interactive tables.';\n",
              "          element.innerHTML = '';\n",
              "          dataTable['output_type'] = 'display_data';\n",
              "          await google.colab.output.renderOutput(dataTable, element);\n",
              "          const docLink = document.createElement('div');\n",
              "          docLink.innerHTML = docLinkHtml;\n",
              "          element.appendChild(docLink);\n",
              "        }\n",
              "      </script>\n",
              "    </div>\n",
              "  </div>\n",
              "  "
            ]
          },
          "metadata": {},
          "execution_count": 148
        }
      ],
      "source": [
        "df"
      ]
    },
    {
      "cell_type": "code",
      "execution_count": 149,
      "metadata": {
        "colab": {
          "base_uri": "https://localhost:8080/"
        },
        "id": "mof6jnCy_Ftx",
        "outputId": "feb29dbc-0880-46e4-f0b6-88d4afee5ff9"
      },
      "outputs": [
        {
          "output_type": "execute_result",
          "data": {
            "text/plain": [
              "(5572, 6)"
            ]
          },
          "metadata": {},
          "execution_count": 149
        }
      ],
      "source": [
        "df.shape"
      ]
    },
    {
      "cell_type": "code",
      "source": [
        "import seaborn as sns\n",
        "import matplotlib.pyplot as plt\n",
        "sea = pd.DataFrame(df, columns = ['Looks malacious', 'Length', 'Avg_Word_Length','Capitals'])\n",
        "sea['Labels'] = df['Is Spam']\n",
        "sns.pairplot(sea, hue='Labels', markers='o')\n",
        "plt.show()"
      ],
      "metadata": {
        "colab": {
          "base_uri": "https://localhost:8080/",
          "height": 1000
        },
        "id": "3UxobVWwVwxY",
        "outputId": "278c17f4-1029-4a99-ae45-c3e001b3e204"
      },
      "execution_count": 171,
      "outputs": [
        {
          "output_type": "display_data",
          "data": {
            "text/plain": [
              "<Figure size 1088.12x1000 with 20 Axes>"
            ],
            "image/png": "[encoded data removed]"
          },
          "metadata": {}
        }
      ]
    },
    {
      "cell_type": "code",
      "execution_count": 168,
      "metadata": {
        "colab": {
          "base_uri": "https://localhost:8080/"
        },
        "id": "Q9Urrz0PEu69",
        "outputId": "edd69b6f-e2a4-4df9-81e6-f05013cf2d37"
      },
      "outputs": [
        {
          "output_type": "stream",
          "name": "stdout",
          "text": [
            "[[  0.   111.     4.6    3.  ]\n",
            " [  0.    29.     4.     2.  ]\n",
            " [  1.   155.     4.57  10.  ]\n",
            " ...\n",
            " [  0.    57.     4.8    2.  ]\n",
            " [  1.   125.     3.85   2.  ]\n",
            " [  0.    26.     3.5    2.  ]] [0 0 1 ... 0 0 0]\n"
          ]
        }
      ],
      "source": [
        "t_Y = np.array(df['Is Spam'] == 'spam').astype(int) # 1 when spam\n",
        "t_X = np.array(df[['Looks malacious', 'Length', 'Avg_Word_Length','Capitals']])\n",
        "print(t_X,t_Y)"
      ]
    },
    {
      "cell_type": "code",
      "execution_count": 151,
      "metadata": {
        "id": "vg7AZprkG3Po"
      },
      "outputs": [],
      "source": [
        "t_X.shape, t_Y.shape\n",
        "t_Y = t_Y.astype(int)"
      ]
    },
    {
      "cell_type": "code",
      "source": [
        "from sklearn.model_selection import train_test_split\n",
        "train_X, test_X, train_Y, test_Y = train_test_split(t_X, t_Y, test_size=0.2)"
      ],
      "metadata": {
        "id": "Gb3h1rCrKZWi"
      },
      "execution_count": 152,
      "outputs": []
    },
    {
      "cell_type": "code",
      "source": [
        "(train_X.shape, train_Y.shape, test_X.shape, test_Y.shape)"
      ],
      "metadata": {
        "colab": {
          "base_uri": "https://localhost:8080/"
        },
        "id": "OBi_0IWnLMxZ",
        "outputId": "84d095a5-a806-4e10-a416-959ec96b1ceb"
      },
      "execution_count": 153,
      "outputs": [
        {
          "output_type": "execute_result",
          "data": {
            "text/plain": [
              "((4457, 4), (4457,), (1115, 4), (1115,))"
            ]
          },
          "metadata": {},
          "execution_count": 153
        }
      ]
    },
    {
      "cell_type": "code",
      "execution_count": 154,
      "metadata": {
        "id": "P-Tfq8zqDbtV"
      },
      "outputs": [],
      "source": [
        "import tensorflow as tf\n",
        "from tensorflow.keras.models import Sequential\n",
        "from tensorflow.keras.layers import Dense"
      ]
    },
    {
      "cell_type": "code",
      "execution_count": 155,
      "metadata": {
        "id": "-sztKVIzEKEb"
      },
      "outputs": [],
      "source": [
        "model = Sequential(\n",
        "  [\n",
        "      tf.keras.Input(shape = (4,)),\n",
        "      Dense(units = 25, activation='relu', name='layer_1'),\n",
        "      Dense(units = 15, activation='relu', name='layer_2'),\n",
        "      Dense(units = 1, activation='sigmoid', name='layer_3'),\n",
        "  ], name='model'\n",
        ")"
      ]
    },
    {
      "cell_type": "code",
      "execution_count": 78,
      "metadata": {
        "colab": {
          "base_uri": "https://localhost:8080/"
        },
        "id": "L4eVOBYXHxzY",
        "outputId": "c862f110-6c74-48e3-c4b1-6206be82c78f"
      },
      "outputs": [
        {
          "output_type": "stream",
          "name": "stdout",
          "text": [
            "Model: \"model\"\n",
            "_________________________________________________________________\n",
            " Layer (type)                Output Shape              Param #   \n",
            "=================================================================\n",
            " layer_1 (Dense)             (None, 25)                125       \n",
            "                                                                 \n",
            " layer_2 (Dense)             (None, 15)                390       \n",
            "                                                                 \n",
            " layer_3 (Dense)             (None, 1)                 16        \n",
            "                                                                 \n",
            "=================================================================\n",
            "Total params: 531\n",
            "Trainable params: 531\n",
            "Non-trainable params: 0\n",
            "_________________________________________________________________\n"
          ]
        }
      ],
      "source": [
        "model.summary()"
      ]
    },
    {
      "cell_type": "code",
      "source": [
        "print(model.layers[2].weights)"
      ],
      "metadata": {
        "colab": {
          "base_uri": "https://localhost:8080/"
        },
        "id": "ODmOr81JOFVH",
        "outputId": "fcc9cfee-073a-4621-fefe-9c0cab15d8e0"
      },
      "execution_count": 84,
      "outputs": [
        {
          "output_type": "stream",
          "name": "stdout",
          "text": [
            "[<tf.Variable 'layer_3/kernel:0' shape=(15, 1) dtype=float32, numpy=\n",
            "array([[ 0.07478214],\n",
            "       [-0.47838593],\n",
            "       [-0.03026666],\n",
            "       [ 0.21304695],\n",
            "       [-1.259526  ],\n",
            "       [-0.08151121],\n",
            "       [ 0.09994778],\n",
            "       [ 0.15930767],\n",
            "       [-0.28345504],\n",
            "       [ 0.30873844],\n",
            "       [ 0.13770558],\n",
            "       [-0.17661363],\n",
            "       [-0.24560365],\n",
            "       [ 0.07949638],\n",
            "       [ 0.14432347]], dtype=float32)>, <tf.Variable 'layer_3/bias:0' shape=(1,) dtype=float32, numpy=array([-0.5836949], dtype=float32)>]\n"
          ]
        }
      ]
    },
    {
      "cell_type": "code",
      "execution_count": 79,
      "metadata": {
        "id": "1FZQ71hWIA-X"
      },
      "outputs": [],
      "source": [
        "model.compile(loss='binary_crossentropy', optimizer='adam', metrics=['accuracy'])"
      ]
    },
    {
      "cell_type": "code",
      "execution_count": 80,
      "metadata": {
        "id": "Hik9NQdPJsgK"
      },
      "outputs": [],
      "source": [
        "train_Y = train_Y.astype(int)"
      ]
    },
    {
      "cell_type": "code",
      "execution_count": 81,
      "metadata": {
        "colab": {
          "base_uri": "https://localhost:8080/"
        },
        "id": "UnuebmTLIYMK",
        "outputId": "9a4c7427-3a74-4615-c264-7b70bb4be362"
      },
      "outputs": [
        {
          "output_type": "stream",
          "name": "stdout",
          "text": [
            "Epoch 1/100\n",
            "140/140 [==============================] - 1s 3ms/step - loss: 0.4648 - accuracy: 0.8649 - val_loss: 0.3309 - val_accuracy: 0.9076\n",
            "Epoch 2/100\n",
            "140/140 [==============================] - 0s 2ms/step - loss: 0.3080 - accuracy: 0.9015 - val_loss: 0.3182 - val_accuracy: 0.8987\n",
            "Epoch 3/100\n",
            "140/140 [==============================] - 0s 2ms/step - loss: 0.2724 - accuracy: 0.9103 - val_loss: 0.2584 - val_accuracy: 0.9157\n",
            "Epoch 4/100\n",
            "140/140 [==============================] - 0s 2ms/step - loss: 0.2552 - accuracy: 0.9152 - val_loss: 0.2551 - val_accuracy: 0.9175\n",
            "Epoch 5/100\n",
            "140/140 [==============================] - 0s 2ms/step - loss: 0.2445 - accuracy: 0.9154 - val_loss: 0.2452 - val_accuracy: 0.9157\n",
            "Epoch 6/100\n",
            "140/140 [==============================] - 0s 2ms/step - loss: 0.2391 - accuracy: 0.9147 - val_loss: 0.2416 - val_accuracy: 0.9202\n",
            "Epoch 7/100\n",
            "140/140 [==============================] - 0s 2ms/step - loss: 0.2401 - accuracy: 0.9188 - val_loss: 0.2356 - val_accuracy: 0.9220\n",
            "Epoch 8/100\n",
            "140/140 [==============================] - 0s 2ms/step - loss: 0.2311 - accuracy: 0.9174 - val_loss: 0.2538 - val_accuracy: 0.9022\n",
            "Epoch 9/100\n",
            "140/140 [==============================] - 1s 4ms/step - loss: 0.2224 - accuracy: 0.9273 - val_loss: 0.2384 - val_accuracy: 0.9238\n",
            "Epoch 10/100\n",
            "140/140 [==============================] - 0s 3ms/step - loss: 0.2242 - accuracy: 0.9215 - val_loss: 0.2251 - val_accuracy: 0.9220\n",
            "Epoch 11/100\n",
            "140/140 [==============================] - 1s 4ms/step - loss: 0.2174 - accuracy: 0.9244 - val_loss: 0.2270 - val_accuracy: 0.9211\n",
            "Epoch 12/100\n",
            "140/140 [==============================] - 1s 4ms/step - loss: 0.2137 - accuracy: 0.9260 - val_loss: 0.2221 - val_accuracy: 0.9256\n",
            "Epoch 13/100\n",
            "140/140 [==============================] - 0s 3ms/step - loss: 0.2081 - accuracy: 0.9262 - val_loss: 0.2169 - val_accuracy: 0.9283\n",
            "Epoch 14/100\n",
            "140/140 [==============================] - 0s 3ms/step - loss: 0.2133 - accuracy: 0.9251 - val_loss: 0.2186 - val_accuracy: 0.9175\n",
            "Epoch 15/100\n",
            "140/140 [==============================] - 0s 3ms/step - loss: 0.1996 - accuracy: 0.9300 - val_loss: 0.2101 - val_accuracy: 0.9291\n",
            "Epoch 16/100\n",
            "140/140 [==============================] - 0s 2ms/step - loss: 0.2022 - accuracy: 0.9257 - val_loss: 0.2101 - val_accuracy: 0.9229\n",
            "Epoch 17/100\n",
            "140/140 [==============================] - 0s 3ms/step - loss: 0.1933 - accuracy: 0.9291 - val_loss: 0.2119 - val_accuracy: 0.9256\n",
            "Epoch 18/100\n",
            "140/140 [==============================] - 0s 2ms/step - loss: 0.1928 - accuracy: 0.9251 - val_loss: 0.2070 - val_accuracy: 0.9220\n",
            "Epoch 19/100\n",
            "140/140 [==============================] - 0s 2ms/step - loss: 0.1938 - accuracy: 0.9278 - val_loss: 0.1989 - val_accuracy: 0.9211\n",
            "Epoch 20/100\n",
            "140/140 [==============================] - 0s 3ms/step - loss: 0.1830 - accuracy: 0.9334 - val_loss: 0.1931 - val_accuracy: 0.9274\n",
            "Epoch 21/100\n",
            "140/140 [==============================] - 0s 2ms/step - loss: 0.1875 - accuracy: 0.9309 - val_loss: 0.2029 - val_accuracy: 0.9238\n",
            "Epoch 22/100\n",
            "140/140 [==============================] - 0s 2ms/step - loss: 0.1905 - accuracy: 0.9316 - val_loss: 0.1988 - val_accuracy: 0.9202\n",
            "Epoch 23/100\n",
            "140/140 [==============================] - 0s 2ms/step - loss: 0.1916 - accuracy: 0.9284 - val_loss: 0.2239 - val_accuracy: 0.9058\n",
            "Epoch 24/100\n",
            "140/140 [==============================] - 0s 2ms/step - loss: 0.1856 - accuracy: 0.9325 - val_loss: 0.1994 - val_accuracy: 0.9220\n",
            "Epoch 25/100\n",
            "140/140 [==============================] - 0s 2ms/step - loss: 0.1875 - accuracy: 0.9318 - val_loss: 0.1996 - val_accuracy: 0.9166\n",
            "Epoch 26/100\n",
            "140/140 [==============================] - 0s 2ms/step - loss: 0.1759 - accuracy: 0.9336 - val_loss: 0.2023 - val_accuracy: 0.9202\n",
            "Epoch 27/100\n",
            "140/140 [==============================] - 0s 3ms/step - loss: 0.1737 - accuracy: 0.9338 - val_loss: 0.2023 - val_accuracy: 0.9211\n",
            "Epoch 28/100\n",
            "140/140 [==============================] - 0s 2ms/step - loss: 0.1806 - accuracy: 0.9309 - val_loss: 0.2006 - val_accuracy: 0.9130\n",
            "Epoch 29/100\n",
            "140/140 [==============================] - 0s 2ms/step - loss: 0.1748 - accuracy: 0.9334 - val_loss: 0.1818 - val_accuracy: 0.9291\n",
            "Epoch 30/100\n",
            "140/140 [==============================] - 0s 2ms/step - loss: 0.1740 - accuracy: 0.9338 - val_loss: 0.1829 - val_accuracy: 0.9247\n",
            "Epoch 31/100\n",
            "140/140 [==============================] - 0s 2ms/step - loss: 0.1686 - accuracy: 0.9356 - val_loss: 0.1816 - val_accuracy: 0.9229\n",
            "Epoch 32/100\n",
            "140/140 [==============================] - 0s 2ms/step - loss: 0.1655 - accuracy: 0.9363 - val_loss: 0.2033 - val_accuracy: 0.9157\n",
            "Epoch 33/100\n",
            "140/140 [==============================] - 0s 3ms/step - loss: 0.1656 - accuracy: 0.9370 - val_loss: 0.1871 - val_accuracy: 0.9265\n",
            "Epoch 34/100\n",
            "140/140 [==============================] - 0s 2ms/step - loss: 0.1812 - accuracy: 0.9338 - val_loss: 0.1813 - val_accuracy: 0.9265\n",
            "Epoch 35/100\n",
            "140/140 [==============================] - 0s 2ms/step - loss: 0.1655 - accuracy: 0.9329 - val_loss: 0.1870 - val_accuracy: 0.9238\n",
            "Epoch 36/100\n",
            "140/140 [==============================] - 0s 2ms/step - loss: 0.1652 - accuracy: 0.9370 - val_loss: 0.1986 - val_accuracy: 0.9274\n",
            "Epoch 37/100\n",
            "140/140 [==============================] - 0s 2ms/step - loss: 0.1665 - accuracy: 0.9354 - val_loss: 0.1794 - val_accuracy: 0.9309\n",
            "Epoch 38/100\n",
            "140/140 [==============================] - 0s 2ms/step - loss: 0.1626 - accuracy: 0.9374 - val_loss: 0.1796 - val_accuracy: 0.9256\n",
            "Epoch 39/100\n",
            "140/140 [==============================] - 0s 3ms/step - loss: 0.1667 - accuracy: 0.9370 - val_loss: 0.1791 - val_accuracy: 0.9283\n",
            "Epoch 40/100\n",
            "140/140 [==============================] - 0s 2ms/step - loss: 0.1738 - accuracy: 0.9327 - val_loss: 0.1808 - val_accuracy: 0.9274\n",
            "Epoch 41/100\n",
            "140/140 [==============================] - 0s 2ms/step - loss: 0.1605 - accuracy: 0.9387 - val_loss: 0.2041 - val_accuracy: 0.9211\n",
            "Epoch 42/100\n",
            "140/140 [==============================] - 0s 2ms/step - loss: 0.1648 - accuracy: 0.9363 - val_loss: 0.1757 - val_accuracy: 0.9300\n",
            "Epoch 43/100\n",
            "140/140 [==============================] - 1s 4ms/step - loss: 0.1693 - accuracy: 0.9365 - val_loss: 0.1824 - val_accuracy: 0.9291\n",
            "Epoch 44/100\n",
            "140/140 [==============================] - 1s 4ms/step - loss: 0.1684 - accuracy: 0.9338 - val_loss: 0.1938 - val_accuracy: 0.9256\n",
            "Epoch 45/100\n",
            "140/140 [==============================] - 1s 4ms/step - loss: 0.1600 - accuracy: 0.9396 - val_loss: 0.1771 - val_accuracy: 0.9265\n",
            "Epoch 46/100\n",
            "140/140 [==============================] - 1s 4ms/step - loss: 0.1572 - accuracy: 0.9385 - val_loss: 0.1763 - val_accuracy: 0.9318\n",
            "Epoch 47/100\n",
            "140/140 [==============================] - 1s 4ms/step - loss: 0.1591 - accuracy: 0.9408 - val_loss: 0.1900 - val_accuracy: 0.9318\n",
            "Epoch 48/100\n",
            "140/140 [==============================] - 0s 2ms/step - loss: 0.1639 - accuracy: 0.9379 - val_loss: 0.1831 - val_accuracy: 0.9274\n",
            "Epoch 49/100\n",
            "140/140 [==============================] - 0s 2ms/step - loss: 0.1616 - accuracy: 0.9385 - val_loss: 0.1805 - val_accuracy: 0.9274\n",
            "Epoch 50/100\n",
            "140/140 [==============================] - 0s 2ms/step - loss: 0.1627 - accuracy: 0.9338 - val_loss: 0.1733 - val_accuracy: 0.9309\n",
            "Epoch 51/100\n",
            "140/140 [==============================] - 0s 2ms/step - loss: 0.1624 - accuracy: 0.9379 - val_loss: 0.1728 - val_accuracy: 0.9291\n",
            "Epoch 52/100\n",
            "140/140 [==============================] - 0s 2ms/step - loss: 0.1593 - accuracy: 0.9387 - val_loss: 0.1816 - val_accuracy: 0.9256\n",
            "Epoch 53/100\n",
            "140/140 [==============================] - 0s 2ms/step - loss: 0.1683 - accuracy: 0.9365 - val_loss: 0.1862 - val_accuracy: 0.9202\n",
            "Epoch 54/100\n",
            "140/140 [==============================] - 0s 2ms/step - loss: 0.1611 - accuracy: 0.9367 - val_loss: 0.2276 - val_accuracy: 0.9094\n",
            "Epoch 55/100\n",
            "140/140 [==============================] - 0s 2ms/step - loss: 0.1566 - accuracy: 0.9381 - val_loss: 0.1783 - val_accuracy: 0.9247\n",
            "Epoch 56/100\n",
            "140/140 [==============================] - 0s 2ms/step - loss: 0.1598 - accuracy: 0.9383 - val_loss: 0.1962 - val_accuracy: 0.9274\n",
            "Epoch 57/100\n",
            "140/140 [==============================] - 0s 3ms/step - loss: 0.1633 - accuracy: 0.9379 - val_loss: 0.1795 - val_accuracy: 0.9318\n",
            "Epoch 58/100\n",
            "140/140 [==============================] - 0s 2ms/step - loss: 0.1660 - accuracy: 0.9379 - val_loss: 0.1786 - val_accuracy: 0.9283\n",
            "Epoch 59/100\n",
            "140/140 [==============================] - 0s 2ms/step - loss: 0.1681 - accuracy: 0.9381 - val_loss: 0.1727 - val_accuracy: 0.9309\n",
            "Epoch 60/100\n",
            "140/140 [==============================] - 0s 2ms/step - loss: 0.1578 - accuracy: 0.9379 - val_loss: 0.1756 - val_accuracy: 0.9309\n",
            "Epoch 61/100\n",
            "140/140 [==============================] - 0s 2ms/step - loss: 0.1610 - accuracy: 0.9385 - val_loss: 0.1733 - val_accuracy: 0.9274\n",
            "Epoch 62/100\n",
            "140/140 [==============================] - 0s 2ms/step - loss: 0.1571 - accuracy: 0.9403 - val_loss: 0.1831 - val_accuracy: 0.9283\n",
            "Epoch 63/100\n",
            "140/140 [==============================] - 0s 2ms/step - loss: 0.1646 - accuracy: 0.9410 - val_loss: 0.1750 - val_accuracy: 0.9309\n",
            "Epoch 64/100\n",
            "140/140 [==============================] - 0s 2ms/step - loss: 0.1667 - accuracy: 0.9367 - val_loss: 0.2088 - val_accuracy: 0.9040\n",
            "Epoch 65/100\n",
            "140/140 [==============================] - 0s 2ms/step - loss: 0.1640 - accuracy: 0.9363 - val_loss: 0.1841 - val_accuracy: 0.9202\n",
            "Epoch 66/100\n",
            "140/140 [==============================] - 0s 2ms/step - loss: 0.1586 - accuracy: 0.9363 - val_loss: 0.1835 - val_accuracy: 0.9211\n",
            "Epoch 67/100\n",
            "140/140 [==============================] - 0s 2ms/step - loss: 0.1707 - accuracy: 0.9320 - val_loss: 0.1824 - val_accuracy: 0.9274\n",
            "Epoch 68/100\n",
            "140/140 [==============================] - 0s 2ms/step - loss: 0.1569 - accuracy: 0.9394 - val_loss: 0.1938 - val_accuracy: 0.9265\n",
            "Epoch 69/100\n",
            "140/140 [==============================] - 0s 2ms/step - loss: 0.1582 - accuracy: 0.9381 - val_loss: 0.2444 - val_accuracy: 0.9121\n",
            "Epoch 70/100\n",
            "140/140 [==============================] - 0s 2ms/step - loss: 0.1672 - accuracy: 0.9358 - val_loss: 0.1834 - val_accuracy: 0.9327\n",
            "Epoch 71/100\n",
            "140/140 [==============================] - 0s 2ms/step - loss: 0.1619 - accuracy: 0.9372 - val_loss: 0.1704 - val_accuracy: 0.9327\n",
            "Epoch 72/100\n",
            "140/140 [==============================] - 0s 2ms/step - loss: 0.1536 - accuracy: 0.9392 - val_loss: 0.1722 - val_accuracy: 0.9274\n",
            "Epoch 73/100\n",
            "140/140 [==============================] - 0s 2ms/step - loss: 0.1545 - accuracy: 0.9399 - val_loss: 0.1732 - val_accuracy: 0.9291\n",
            "Epoch 74/100\n",
            "140/140 [==============================] - 0s 2ms/step - loss: 0.1577 - accuracy: 0.9376 - val_loss: 0.1726 - val_accuracy: 0.9318\n",
            "Epoch 75/100\n",
            "140/140 [==============================] - 0s 2ms/step - loss: 0.1602 - accuracy: 0.9383 - val_loss: 0.1738 - val_accuracy: 0.9291\n",
            "Epoch 76/100\n",
            "140/140 [==============================] - 0s 3ms/step - loss: 0.1621 - accuracy: 0.9379 - val_loss: 0.1816 - val_accuracy: 0.9247\n",
            "Epoch 77/100\n",
            "140/140 [==============================] - 1s 4ms/step - loss: 0.1600 - accuracy: 0.9421 - val_loss: 0.1781 - val_accuracy: 0.9283\n",
            "Epoch 78/100\n",
            "140/140 [==============================] - 1s 4ms/step - loss: 0.1553 - accuracy: 0.9390 - val_loss: 0.1719 - val_accuracy: 0.9291\n",
            "Epoch 79/100\n",
            "140/140 [==============================] - 1s 4ms/step - loss: 0.1544 - accuracy: 0.9408 - val_loss: 0.1851 - val_accuracy: 0.9256\n",
            "Epoch 80/100\n",
            "140/140 [==============================] - 1s 4ms/step - loss: 0.1566 - accuracy: 0.9381 - val_loss: 0.1757 - val_accuracy: 0.9265\n",
            "Epoch 81/100\n",
            "140/140 [==============================] - 1s 4ms/step - loss: 0.1543 - accuracy: 0.9381 - val_loss: 0.1736 - val_accuracy: 0.9327\n",
            "Epoch 82/100\n",
            "140/140 [==============================] - 0s 2ms/step - loss: 0.1588 - accuracy: 0.9399 - val_loss: 0.1752 - val_accuracy: 0.9256\n",
            "Epoch 83/100\n",
            "140/140 [==============================] - 0s 2ms/step - loss: 0.1564 - accuracy: 0.9379 - val_loss: 0.1787 - val_accuracy: 0.9265\n",
            "Epoch 84/100\n",
            "140/140 [==============================] - 0s 2ms/step - loss: 0.1565 - accuracy: 0.9392 - val_loss: 0.1769 - val_accuracy: 0.9274\n",
            "Epoch 85/100\n",
            "140/140 [==============================] - 0s 3ms/step - loss: 0.1589 - accuracy: 0.9385 - val_loss: 0.1804 - val_accuracy: 0.9309\n",
            "Epoch 86/100\n",
            "140/140 [==============================] - 0s 2ms/step - loss: 0.1572 - accuracy: 0.9379 - val_loss: 0.1822 - val_accuracy: 0.9238\n",
            "Epoch 87/100\n",
            "140/140 [==============================] - 0s 2ms/step - loss: 0.1586 - accuracy: 0.9394 - val_loss: 0.1693 - val_accuracy: 0.9327\n",
            "Epoch 88/100\n",
            "140/140 [==============================] - 0s 2ms/step - loss: 0.1534 - accuracy: 0.9401 - val_loss: 0.1851 - val_accuracy: 0.9238\n",
            "Epoch 89/100\n",
            "140/140 [==============================] - 0s 2ms/step - loss: 0.1565 - accuracy: 0.9401 - val_loss: 0.1804 - val_accuracy: 0.9363\n",
            "Epoch 90/100\n",
            "140/140 [==============================] - 0s 2ms/step - loss: 0.1576 - accuracy: 0.9374 - val_loss: 0.1745 - val_accuracy: 0.9256\n",
            "Epoch 91/100\n",
            "140/140 [==============================] - 0s 2ms/step - loss: 0.1598 - accuracy: 0.9390 - val_loss: 0.1945 - val_accuracy: 0.9291\n",
            "Epoch 92/100\n",
            "140/140 [==============================] - 0s 2ms/step - loss: 0.1658 - accuracy: 0.9349 - val_loss: 0.2004 - val_accuracy: 0.9291\n",
            "Epoch 93/100\n",
            "140/140 [==============================] - 0s 3ms/step - loss: 0.1538 - accuracy: 0.9419 - val_loss: 0.1727 - val_accuracy: 0.9291\n",
            "Epoch 94/100\n",
            "140/140 [==============================] - 0s 3ms/step - loss: 0.1542 - accuracy: 0.9405 - val_loss: 0.1907 - val_accuracy: 0.9256\n",
            "Epoch 95/100\n",
            "140/140 [==============================] - 0s 2ms/step - loss: 0.1600 - accuracy: 0.9387 - val_loss: 0.1724 - val_accuracy: 0.9309\n",
            "Epoch 96/100\n",
            "140/140 [==============================] - 0s 2ms/step - loss: 0.1571 - accuracy: 0.9401 - val_loss: 0.2070 - val_accuracy: 0.9247\n",
            "Epoch 97/100\n",
            "140/140 [==============================] - 0s 2ms/step - loss: 0.1588 - accuracy: 0.9387 - val_loss: 0.1741 - val_accuracy: 0.9274\n",
            "Epoch 98/100\n",
            "140/140 [==============================] - 0s 2ms/step - loss: 0.1546 - accuracy: 0.9410 - val_loss: 0.1740 - val_accuracy: 0.9283\n",
            "Epoch 99/100\n",
            "140/140 [==============================] - 0s 2ms/step - loss: 0.1540 - accuracy: 0.9390 - val_loss: 0.1746 - val_accuracy: 0.9256\n",
            "Epoch 100/100\n",
            "140/140 [==============================] - 0s 2ms/step - loss: 0.1641 - accuracy: 0.9372 - val_loss: 0.1933 - val_accuracy: 0.9318\n"
          ]
        },
        {
          "output_type": "execute_result",
          "data": {
            "text/plain": [
              "<keras.callbacks.History at 0x7f539fd577c0>"
            ]
          },
          "metadata": {},
          "execution_count": 81
        }
      ],
      "source": [
        "model.fit(\n",
        "    train_X, train_Y,\n",
        "    epochs=100,\n",
        "    validation_data=(test_X, test_Y)\n",
        ")"
      ]
    },
    {
      "cell_type": "code",
      "execution_count": 83,
      "metadata": {
        "colab": {
          "base_uri": "https://localhost:8080/"
        },
        "id": "4ZY8veqrN_EE",
        "outputId": "3f6a238b-f61d-4e87-f68d-d5918f2f694d"
      },
      "outputs": [
        {
          "output_type": "stream",
          "name": "stdout",
          "text": [
            "Loss:  0.1933005452156067\n",
            "Accuracy:  0.9318385720252991\n"
          ]
        }
      ],
      "source": [
        "score = model.evaluate(test_X,test_Y, verbose = 0)\n",
        "print(\"Loss: \", score[0])\n",
        "print(\"Accuracy: \", score[1])"
      ]
    },
    {
      "cell_type": "code",
      "source": [
        "np.where(test_Y == 1)"
      ],
      "metadata": {
        "colab": {
          "base_uri": "https://localhost:8080/"
        },
        "id": "JhWv7Fc3Owsk",
        "outputId": "e473db0f-3e62-41ef-f180-992e2efac7ea"
      },
      "execution_count": 114,
      "outputs": [
        {
          "output_type": "execute_result",
          "data": {
            "text/plain": [
              "(array([   9,   13,   18,   22,   24,   41,   57,   63,   71,   72,   74,\n",
              "          81,   82,  128,  131,  138,  147,  160,  161,  176,  184,  187,\n",
              "         188,  192,  200,  205,  206,  218,  229,  244,  245,  247,  260,\n",
              "         261,  262,  268,  297,  303,  304,  307,  332,  355,  359,  377,\n",
              "         382,  383,  384,  408,  409,  413,  430,  436,  439,  442,  446,\n",
              "         449,  453,  471,  479,  482,  492,  497,  519,  520,  535,  560,\n",
              "         562,  570,  574,  586,  599,  609,  614,  618,  620,  623,  627,\n",
              "         629,  637,  643,  662,  664,  667,  669,  671,  673,  674,  679,\n",
              "         681,  685,  686,  730,  733,  743,  753,  757,  760,  762,  767,\n",
              "         768,  784,  802,  806,  807,  810,  835,  849,  871,  877,  880,\n",
              "         888,  889,  897,  908,  912,  915,  918,  927,  937,  938,  943,\n",
              "         946,  953,  955,  961,  966,  968,  985,  995,  996,  998, 1009,\n",
              "        1010, 1019, 1030, 1036, 1037, 1051, 1055, 1059, 1063, 1084, 1092,\n",
              "        1095, 1096, 1099]),)"
            ]
          },
          "metadata": {},
          "execution_count": 114
        }
      ]
    },
    {
      "cell_type": "code",
      "source": [
        "test_Y[1099]"
      ],
      "metadata": {
        "colab": {
          "base_uri": "https://localhost:8080/"
        },
        "id": "chuyA10IRrjD",
        "outputId": "d6a7ad3a-7c67-4e3e-a212-460a3d3372fa"
      },
      "execution_count": 115,
      "outputs": [
        {
          "output_type": "execute_result",
          "data": {
            "text/plain": [
              "1"
            ]
          },
          "metadata": {},
          "execution_count": 115
        }
      ]
    },
    {
      "cell_type": "code",
      "execution_count": 120,
      "metadata": {
        "id": "b2Z-PGI7JJib",
        "colab": {
          "base_uri": "https://localhost:8080/"
        },
        "outputId": "e2f45277-5662-46ea-aa9f-7aca58615f73"
      },
      "outputs": [
        {
          "output_type": "stream",
          "name": "stdout",
          "text": [
            "1/1 [==============================] - 0s 25ms/step\n",
            "1/1 [==============================] - 0s 21ms/step\n"
          ]
        },
        {
          "output_type": "execute_result",
          "data": {
            "text/plain": [
              "(array([[0.0046049]], dtype=float32), array([[0.9484473]], dtype=float32))"
            ]
          },
          "metadata": {},
          "execution_count": 120
        }
      ],
      "source": [
        "predict_spam_1 = model.predict(test_X[0].reshape(1,4))\n",
        "predict_spam_2 = model.predict(test_X[1010].reshape(1,4))\n",
        "predict_spam_1, predict_spam_2"
      ]
    },
    {
      "cell_type": "code",
      "source": [
        "def CheckSpam(predict_spam):\n",
        "  if predict_spam >= 0.5:\n",
        "    yhat = 'Spam'\n",
        "  else:\n",
        "    yhat = \"Ham\"\n",
        "  return yhat"
      ],
      "metadata": {
        "id": "Et6iFQlXNQBu"
      },
      "execution_count": 121,
      "outputs": []
    },
    {
      "cell_type": "code",
      "source": [
        "print()\n",
        "print(\"Predicted Answer: \", CheckSpam(predict_spam_1))\n",
        "print(\"Actual Y: \", \"Spam\" if (test_Y[0] == \"spam\") else \"Ham\")\n",
        "\n",
        "print(\"Predicted Answer: \", CheckSpam(predict_spam_2))\n",
        "print(\"Actual Y: \", \"Spam\" if (test_Y[1010] == \"spam\") else \"Ham\")"
      ],
      "metadata": {
        "colab": {
          "base_uri": "https://localhost:8080/"
        },
        "id": "gS6wj5tUPB9u",
        "outputId": "c21d0693-2a93-46c4-c856-921b300c363e"
      },
      "execution_count": 124,
      "outputs": [
        {
          "output_type": "stream",
          "name": "stdout",
          "text": [
            "\n",
            "Predicted Answer:  Ham\n",
            "Actual Y:  Ham\n",
            "Predicted Answer:  Spam\n",
            "Actual Y:  Ham\n"
          ]
        }
      ]
    },
    {
      "cell_type": "code",
      "source": [
        "df[df['Is Spam'] == 'spam']"
      ],
      "metadata": {
        "colab": {
          "base_uri": "https://localhost:8080/",
          "height": 424
        },
        "id": "92xsIudlUn9D",
        "outputId": "25e4188d-b38f-4c6d-946d-422bdc7a5c95"
      },
      "execution_count": 159,
      "outputs": [
        {
          "output_type": "execute_result",
          "data": {
            "text/plain": [
              "     Is Spam                                               Mail  \\\n",
              "2       spam  Free entry in 2 a wkly comp to win FA Cup fina...   \n",
              "5       spam  FreeMsg Hey there darling it's been 3 week's n...   \n",
              "8       spam  WINNER!! As a valued network customer you have...   \n",
              "9       spam  Had your mobile 11 months or more? U R entitle...   \n",
              "11      spam  SIX chances to win CASH! From 100 to 20,000 po...   \n",
              "...      ...                                                ...   \n",
              "5537    spam  Want explicit SEX in 30 secs? Ring 02073162414...   \n",
              "5540    spam  ASKED 3MOBILE IF 0870 CHATLINES INCLU IN FREE ...   \n",
              "5547    spam  Had your contract mobile 11 Mnths? Latest Moto...   \n",
              "5566    spam  REMINDER FROM O2: To get 2.50 pounds free call...   \n",
              "5567    spam  This is the 2nd time we have tried 2 contact u...   \n",
              "\n",
              "      Looks malacious  Avg_Word_Length  Length  Capitals  \n",
              "2                   1             4.57     155        10  \n",
              "5                   0             3.66     148         7  \n",
              "8                   1             5.12     158        12  \n",
              "9                   1             4.34     154        14  \n",
              "11                  0             4.27     136        17  \n",
              "...               ...              ...     ...       ...  \n",
              "5537                0             4.69      90        17  \n",
              "5540                1             3.88     160       104  \n",
              "5547                1             4.75     160        20  \n",
              "5566                1             4.29     147        14  \n",
              "5567                0             4.40     161         9  \n",
              "\n",
              "[747 rows x 6 columns]"
            ],
            "text/html": [
              "\n",
              "  <div id=\"df-fdff3a54-6962-4e98-a8e8-fc4e774925b2\">\n",
              "    <div class=\"colab-df-container\">\n",
              "      <div>\n",
              "<style scoped>\n",
              "    .dataframe tbody tr th:only-of-type {\n",
              "        vertical-align: middle;\n",
              "    }\n",
              "\n",
              "    .dataframe tbody tr th {\n",
              "        vertical-align: top;\n",
              "    }\n",
              "\n",
              "    .dataframe thead th {\n",
              "        text-align: right;\n",
              "    }\n",
              "</style>\n",
              "<table border=\"1\" class=\"dataframe\">\n",
              "  <thead>\n",
              "    <tr style=\"text-align: right;\">\n",
              "      <th></th>\n",
              "      <th>Is Spam</th>\n",
              "      <th>Mail</th>\n",
              "      <th>Looks malacious</th>\n",
              "      <th>Avg_Word_Length</th>\n",
              "      <th>Length</th>\n",
              "      <th>Capitals</th>\n",
              "    </tr>\n",
              "  </thead>\n",
              "  <tbody>\n",
              "    <tr>\n",
              "      <th>2</th>\n",
              "      <td>spam</td>\n",
              "      <td>Free entry in 2 a wkly comp to win FA Cup fina...</td>\n",
              "      <td>1</td>\n",
              "      <td>4.57</td>\n",
              "      <td>155</td>\n",
              "      <td>10</td>\n",
              "    </tr>\n",
              "    <tr>\n",
              "      <th>5</th>\n",
              "      <td>spam</td>\n",
              "      <td>FreeMsg Hey there darling it's been 3 week's n...</td>\n",
              "      <td>0</td>\n",
              "      <td>3.66</td>\n",
              "      <td>148</td>\n",
              "      <td>7</td>\n",
              "    </tr>\n",
              "    <tr>\n",
              "      <th>8</th>\n",
              "      <td>spam</td>\n",
              "      <td>WINNER!! As a valued network customer you have...</td>\n",
              "      <td>1</td>\n",
              "      <td>5.12</td>\n",
              "      <td>158</td>\n",
              "      <td>12</td>\n",
              "    </tr>\n",
              "    <tr>\n",
              "      <th>9</th>\n",
              "      <td>spam</td>\n",
              "      <td>Had your mobile 11 months or more? U R entitle...</td>\n",
              "      <td>1</td>\n",
              "      <td>4.34</td>\n",
              "      <td>154</td>\n",
              "      <td>14</td>\n",
              "    </tr>\n",
              "    <tr>\n",
              "      <th>11</th>\n",
              "      <td>spam</td>\n",
              "      <td>SIX chances to win CASH! From 100 to 20,000 po...</td>\n",
              "      <td>0</td>\n",
              "      <td>4.27</td>\n",
              "      <td>136</td>\n",
              "      <td>17</td>\n",
              "    </tr>\n",
              "    <tr>\n",
              "      <th>...</th>\n",
              "      <td>...</td>\n",
              "      <td>...</td>\n",
              "      <td>...</td>\n",
              "      <td>...</td>\n",
              "      <td>...</td>\n",
              "      <td>...</td>\n",
              "    </tr>\n",
              "    <tr>\n",
              "      <th>5537</th>\n",
              "      <td>spam</td>\n",
              "      <td>Want explicit SEX in 30 secs? Ring 02073162414...</td>\n",
              "      <td>0</td>\n",
              "      <td>4.69</td>\n",
              "      <td>90</td>\n",
              "      <td>17</td>\n",
              "    </tr>\n",
              "    <tr>\n",
              "      <th>5540</th>\n",
              "      <td>spam</td>\n",
              "      <td>ASKED 3MOBILE IF 0870 CHATLINES INCLU IN FREE ...</td>\n",
              "      <td>1</td>\n",
              "      <td>3.88</td>\n",
              "      <td>160</td>\n",
              "      <td>104</td>\n",
              "    </tr>\n",
              "    <tr>\n",
              "      <th>5547</th>\n",
              "      <td>spam</td>\n",
              "      <td>Had your contract mobile 11 Mnths? Latest Moto...</td>\n",
              "      <td>1</td>\n",
              "      <td>4.75</td>\n",
              "      <td>160</td>\n",
              "      <td>20</td>\n",
              "    </tr>\n",
              "    <tr>\n",
              "      <th>5566</th>\n",
              "      <td>spam</td>\n",
              "      <td>REMINDER FROM O2: To get 2.50 pounds free call...</td>\n",
              "      <td>1</td>\n",
              "      <td>4.29</td>\n",
              "      <td>147</td>\n",
              "      <td>14</td>\n",
              "    </tr>\n",
              "    <tr>\n",
              "      <th>5567</th>\n",
              "      <td>spam</td>\n",
              "      <td>This is the 2nd time we have tried 2 contact u...</td>\n",
              "      <td>0</td>\n",
              "      <td>4.40</td>\n",
              "      <td>161</td>\n",
              "      <td>9</td>\n",
              "    </tr>\n",
              "  </tbody>\n",
              "</table>\n",
              "<p>747 rows × 6 columns</p>\n",
              "</div>\n",
              "      <button class=\"colab-df-convert\" onclick=\"convertToInteractive('df-fdff3a54-6962-4e98-a8e8-fc4e774925b2')\"\n",
              "              title=\"Convert this dataframe to an interactive table.\"\n",
              "              style=\"display:none;\">\n",
              "        \n",
              "  <svg xmlns=\"http://www.w3.org/2000/svg\" height=\"24px\"viewBox=\"0 0 24 24\"\n",
              "       width=\"24px\">\n",
              "    <path d=\"M0 0h24v24H0V0z\" fill=\"none\"/>\n",
              "    <path d=\"M18.56 5.44l.94 2.06.94-2.06 2.06-.94-2.06-.94-.94-2.06-.94 2.06-2.06.94zm-11 1L8.5 8.5l.94-2.06 2.06-.94-2.06-.94L8.5 2.5l-.94 2.06-2.06.94zm10 10l.94 2.06.94-2.06 2.06-.94-2.06-.94-.94-2.06-.94 2.06-2.06.94z\"/><path d=\"M17.41 7.96l-1.37-1.37c-.4-.4-.92-.59-1.43-.59-.52 0-1.04.2-1.43.59L10.3 9.45l-7.72 7.72c-.78.78-.78 2.05 0 2.83L4 21.41c.39.39.9.59 1.41.59.51 0 1.02-.2 1.41-.59l7.78-7.78 2.81-2.81c.8-.78.8-2.07 0-2.86zM5.41 20L4 18.59l7.72-7.72 1.47 1.35L5.41 20z\"/>\n",
              "  </svg>\n",
              "      </button>\n",
              "      \n",
              "  <style>\n",
              "    .colab-df-container {\n",
              "      display:flex;\n",
              "      flex-wrap:wrap;\n",
              "      gap: 12px;\n",
              "    }\n",
              "\n",
              "    .colab-df-convert {\n",
              "      background-color: #E8F0FE;\n",
              "      border: none;\n",
              "      border-radius: 50%;\n",
              "      cursor: pointer;\n",
              "      display: none;\n",
              "      fill: #1967D2;\n",
              "      height: 32px;\n",
              "      padding: 0 0 0 0;\n",
              "      width: 32px;\n",
              "    }\n",
              "\n",
              "    .colab-df-convert:hover {\n",
              "      background-color: #E2EBFA;\n",
              "      box-shadow: 0px 1px 2px rgba(60, 64, 67, 0.3), 0px 1px 3px 1px rgba(60, 64, 67, 0.15);\n",
              "      fill: #174EA6;\n",
              "    }\n",
              "\n",
              "    [theme=dark] .colab-df-convert {\n",
              "      background-color: #3B4455;\n",
              "      fill: #D2E3FC;\n",
              "    }\n",
              "\n",
              "    [theme=dark] .colab-df-convert:hover {\n",
              "      background-color: #434B5C;\n",
              "      box-shadow: 0px 1px 3px 1px rgba(0, 0, 0, 0.15);\n",
              "      filter: drop-shadow(0px 1px 2px rgba(0, 0, 0, 0.3));\n",
              "      fill: #FFFFFF;\n",
              "    }\n",
              "  </style>\n",
              "\n",
              "      <script>\n",
              "        const buttonEl =\n",
              "          document.querySelector('#df-fdff3a54-6962-4e98-a8e8-fc4e774925b2 button.colab-df-convert');\n",
              "        buttonEl.style.display =\n",
              "          google.colab.kernel.accessAllowed ? 'block' : 'none';\n",
              "\n",
              "        async function convertToInteractive(key) {\n",
              "          const element = document.querySelector('#df-fdff3a54-6962-4e98-a8e8-fc4e774925b2');\n",
              "          const dataTable =\n",
              "            await google.colab.kernel.invokeFunction('convertToInteractive',\n",
              "                                                     [key], {});\n",
              "          if (!dataTable) return;\n",
              "\n",
              "          const docLinkHtml = 'Like what you see? Visit the ' +\n",
              "            '<a target=\"_blank\" href=https://colab.research.google.com/notebooks/data_table.ipynb>data table notebook</a>'\n",
              "            + ' to learn more about interactive tables.';\n",
              "          element.innerHTML = '';\n",
              "          dataTable['output_type'] = 'display_data';\n",
              "          await google.colab.output.renderOutput(dataTable, element);\n",
              "          const docLink = document.createElement('div');\n",
              "          docLink.innerHTML = docLinkHtml;\n",
              "          element.appendChild(docLink);\n",
              "        }\n",
              "      </script>\n",
              "    </div>\n",
              "  </div>\n",
              "  "
            ]
          },
          "metadata": {},
          "execution_count": 159
        }
      ]
    },
    {
      "cell_type": "code",
      "source": [
        "sentence = df['Mail'][8]"
      ],
      "metadata": {
        "id": "CVOk4I2pPKjY"
      },
      "execution_count": 164,
      "outputs": []
    },
    {
      "cell_type": "code",
      "source": [
        "has_free_winner = int('Free' in sentence or 'Winner' in sentence)\n",
        "words = sentence.split()\n",
        "avg_word_length = round(np.mean([len(word) for word in words]), 2)\n",
        "sentence_length = len(sentence)\n",
        "capital_letters = sum(1 for char in sentence if char.isupper())\n",
        "test = np.array([has_free_winner, avg_word_length, sentence_length, capital_letters])\n",
        "# Print the test\n",
        "print(test)\n",
        "print(test.shape)\n"
      ],
      "metadata": {
        "colab": {
          "base_uri": "https://localhost:8080/"
        },
        "id": "MrF9Yn36Q7_q",
        "outputId": "08017193-026c-46ad-b17a-cfba356caa66"
      },
      "execution_count": 165,
      "outputs": [
        {
          "output_type": "stream",
          "name": "stdout",
          "text": [
            "[  0.     5.12 158.    12.  ]\n",
            "(4,)\n"
          ]
        }
      ]
    },
    {
      "cell_type": "code",
      "source": [
        "predict_spam = model.predict(test.reshape(1,4))"
      ],
      "metadata": {
        "colab": {
          "base_uri": "https://localhost:8080/"
        },
        "id": "oZ0LFNPSTVEX",
        "outputId": "5c0802cf-54d7-4de7-ea34-d9a18a35f36b"
      },
      "execution_count": 166,
      "outputs": [
        {
          "output_type": "stream",
          "name": "stdout",
          "text": [
            "1/1 [==============================] - 0s 33ms/step\n"
          ]
        }
      ]
    },
    {
      "cell_type": "code",
      "source": [
        "predict_spam"
      ],
      "metadata": {
        "colab": {
          "base_uri": "https://localhost:8080/"
        },
        "id": "fXEoySSUTsvU",
        "outputId": "656f64d6-e7b8-4611-d7af-dfcb61798187"
      },
      "execution_count": 167,
      "outputs": [
        {
          "output_type": "execute_result",
          "data": {
            "text/plain": [
              "array([[1.]], dtype=float32)"
            ]
          },
          "metadata": {},
          "execution_count": 167
        }
      ]
    },
    {
      "cell_type": "code",
      "source": [],
      "metadata": {
        "id": "qtEMUdYlUGWn"
      },
      "execution_count": 167,
      "outputs": []
    }
  ],
  "metadata": {
    "colab": {
      "provenance": [],
      "authorship_tag": "ABX9TyM7I+w/34+ioY+zVxGzAwx/",
      "include_colab_link": true
    },
    "kernelspec": {
      "display_name": "Python 3",
      "name": "python3"
    },
    "language_info": {
      "name": "python"
    }
  },
  "nbformat": 4,
  "nbformat_minor": 0
}